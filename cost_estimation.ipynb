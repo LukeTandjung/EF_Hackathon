{
 "cells": [
  {
   "cell_type": "code",
   "execution_count": 4,
   "metadata": {},
   "outputs": [],
   "source": [
    "# dollar per 1M tokens\n",
    "gpt_4o = {\n",
    "    \"input\": 2.5,\n",
    "    \"output\": 10\n",
    "}\n",
    "\n",
    "gpt_4o_mini = {\n",
    "    \"input\": 0.15,\n",
    "    \"output\": 0.6\n",
    "}\n",
    "\n",
    "gpt_o1 = {\n",
    "    \"input\": 15,\n",
    "    \"output\": 60\n",
    "}\n",
    "\n",
    "gpt_o1_mini = {\n",
    "    \"input\": 3,\n",
    "    \"output\": 12\n",
    "}"
   ]
  },
  {
   "cell_type": "code",
   "execution_count": 13,
   "metadata": {},
   "outputs": [],
   "source": [
    "AGENT_SYS_PROMPT_LENGTH = 1000\n",
    "AGENT_AVERAGE_OUTPUT_LENGTH = 100\n",
    "NUM_AGENTS = 12\n",
    "ROUNDS = 20\n",
    "\n",
    "SIMULATION_NUM = 100"
   ]
  },
  {
   "cell_type": "code",
   "execution_count": 14,
   "metadata": {},
   "outputs": [],
   "source": [
    "def number_to_million(num):\n",
    "    return num * 0.000001\n",
    "\n"
   ]
  },
  {
   "cell_type": "code",
   "execution_count": 15,
   "metadata": {},
   "outputs": [
    {
     "name": "stdout",
     "output_type": "stream",
     "text": [
      "46.08\n"
     ]
    }
   ],
   "source": [
    "agent = gpt_4o_mini\n",
    "\n",
    "single_simulation_cost = 0\n",
    "\n",
    "for i in range(ROUNDS):\n",
    "    single_simulation_cost += (agent[\"input\"] * (number_to_million(AGENT_SYS_PROMPT_LENGTH + i * AGENT_AVERAGE_OUTPUT_LENGTH * NUM_AGENTS))\n",
    "                          + agent[\"output\"] * number_to_million(AGENT_AVERAGE_OUTPUT_LENGTH )) * NUM_AGENTS\n",
    "\n",
    "print(single_simulation_cost * SIMULATION_NUM)"
   ]
  },
  {
   "cell_type": "code",
   "execution_count": null,
   "metadata": {},
   "outputs": [],
   "source": []
  }
 ],
 "metadata": {
  "kernelspec": {
   "display_name": "TrailRunner",
   "language": "python",
   "name": "python3"
  },
  "language_info": {
   "codemirror_mode": {
    "name": "ipython",
    "version": 3
   },
   "file_extension": ".py",
   "mimetype": "text/x-python",
   "name": "python",
   "nbconvert_exporter": "python",
   "pygments_lexer": "ipython3",
   "version": "3.10.5"
  }
 },
 "nbformat": 4,
 "nbformat_minor": 2
}
